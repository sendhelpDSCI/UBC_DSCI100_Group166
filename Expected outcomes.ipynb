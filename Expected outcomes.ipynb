{
 "cells": [
  {
   "cell_type": "markdown",
   "id": "768fb059-307b-4ccc-86b0-75bee8678fba",
   "metadata": {},
   "source": [
    "### Expected outcomes and significance:\n",
    "\n",
    "We expect that as age, cholesterol, resting blood pressure and ST depression increases, so will the prevalence of heart disease. So, the presence of a heart disease could be predicted by evaluating these health factors of a patient.\n",
    "\n",
    "If this outcome is confirmed, this would indicate that people with high relative measures for the four predictors should be aware of the higher risk they have of having a heart disease while those with low relative values for the four different predictors would have low risks of having a heart disease.\n",
    "\n",
    "This could beg questions such as:\n",
    "\n",
    "Are there other health factors that can predict the presence of heart disease within a patient?\n",
    "\n",
    "Can the predictors used in this model to predict the presence of heart disease in a patient be used to predict the presence of other diseases?\n"
   ]
  }
 ],
 "metadata": {
  "kernelspec": {
   "display_name": "R",
   "language": "R",
   "name": "ir"
  },
  "language_info": {
   "codemirror_mode": "r",
   "file_extension": ".r",
   "mimetype": "text/x-r-source",
   "name": "R",
   "pygments_lexer": "r",
   "version": "4.1.3"
  }
 },
 "nbformat": 4,
 "nbformat_minor": 5
}
