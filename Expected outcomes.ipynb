{
 "cells": [
  {
   "cell_type": "markdown",
   "id": "768fb059-307b-4ccc-86b0-75bee8678fba",
   "metadata": {},
   "source": [
    "# **Conclusion**\n",
    "\n",
    "We expect that as age, cholesterol, resting blood pressure and ST level increases, so will the prevalence of heart disease. Thus, the presence of a heart disease could be predicted by evaluating these health factors.\n",
    "\n",
    "If the model can predict heart disease with high accuracy it means it could serve as a tool in the diagnosis of heart disease, but questions like the following remain:\n",
    "\n",
    "Can other health factors help better predict the presence of heart disease within a patient? \n",
    "Should preventative measures be taken for high-risk individuals based on these predictors?"
   ]
  }
 ],
 "metadata": {
  "kernelspec": {
   "display_name": "R",
   "language": "R",
   "name": "ir"
  },
  "language_info": {
   "codemirror_mode": "r",
   "file_extension": ".r",
   "mimetype": "text/x-r-source",
   "name": "R",
   "pygments_lexer": "r",
   "version": "4.1.3"
  }
 },
 "nbformat": 4,
 "nbformat_minor": 5
}
