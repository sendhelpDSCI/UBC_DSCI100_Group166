{
 "cells": [
  {
   "cell_type": "code",
   "execution_count": null,
   "id": "2ef9d3bd-8e76-4819-a0b6-469340163aa6",
   "metadata": {},
   "outputs": [],
   "source": [
    "library(tidyverse)\n",
    "\n",
    "heart_disease <- read_delim(\"https://archive.ics.uci.edu/ml/machine-learning-databases/heart-disease/processed.cleveland.data\", col_names = FALSE)\n",
    "colnames(heart_disease) <- c(\"age\", \"sex\", \"chest_pain_type\", \"resting_blood_pressure\", \"chol\", \"fasting_blood_sugar\", \"resting_electrocardiographic_results\", \"maximum_heart_rate_achieved\", \"exercise_induced_angina\", \"oldpeak\", \"slope\", \"number_of_major_vessels\", \"thal\", \"diagnosis_of_heart_disease\")\n",
    "heart_data <- heart_disease |> mutate(chest_pain_type = as_factor(chest_pain_type), fasting_blood_sugar = as_factor(fasting_blood_sugar)) |> select(age, sex, chest_pain_type, resting_blood_pressure, chol, fasting_blood_sugar, maximum_heart_rate_achieved)\n",
    "heart_data"
   ]
  }
 ],
 "metadata": {
  "kernelspec": {
   "display_name": "R",
   "language": "R",
   "name": "ir"
  },
  "language_info": {
   "codemirror_mode": "r",
   "file_extension": ".r",
   "mimetype": "text/x-r-source",
   "name": "R",
   "pygments_lexer": "r",
   "version": "4.1.3"
  }
 },
 "nbformat": 4,
 "nbformat_minor": 5
}
