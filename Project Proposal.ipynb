{
 "cells": [
  {
   "cell_type": "code",
   "execution_count": null,
   "id": "ff67203c-1661-449d-bee9-952e367df9d6",
   "metadata": {},
   "outputs": [],
   "source": [
    "#This is our final project proposal; make sure to upload your parts to this file"
   ]
  },
  {
   "cell_type": "code",
   "execution_count": null,
   "id": "64c8b718-45db-417c-991a-71a6d4cff486",
   "metadata": {},
   "outputs": [],
   "source": [
    "#use headings and make subheadings"
   ]
  },
  {
   "cell_type": "markdown",
   "id": "bc41dd4f-db36-4b64-a89b-43c8f6b3b431",
   "metadata": {},
   "source": []
  },
  {
   "cell_type": "code",
   "execution_count": null,
   "id": "949b669a-84e0-41fc-818e-793285b077c1",
   "metadata": {},
   "outputs": [],
   "source": []
  }
 ],
 "metadata": {
  "kernelspec": {
   "display_name": "R",
   "language": "R",
   "name": "ir"
  },
  "language_info": {
   "codemirror_mode": "r",
   "file_extension": ".r",
   "mimetype": "text/x-r-source",
   "name": "R",
   "pygments_lexer": "r",
   "version": "4.1.3"
  }
 },
 "nbformat": 4,
 "nbformat_minor": 5
}
