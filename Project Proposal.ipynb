{
 "cells": [
  {
   "cell_type": "code",
   "execution_count": null,
   "id": "ff67203c-1661-449d-bee9-952e367df9d6",
   "metadata": {},
   "outputs": [],
   "source": [
    "#This is our final project proposal; make sure to upload your parts to this file"
   ]
  }
 ],
 "metadata": {
  "kernelspec": {
   "display_name": "R",
   "language": "R",
   "name": "ir"
  },
  "language_info": {
   "codemirror_mode": "r",
   "file_extension": ".r",
   "mimetype": "text/x-r-source",
   "name": "R",
   "pygments_lexer": "r",
   "version": "4.1.3"
  }
 },
 "nbformat": 4,
 "nbformat_minor": 5
}
