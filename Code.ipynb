{
 "cells": [
  {
   "cell_type": "code",
   "execution_count": 1,
   "id": "022a1c8b-a8e4-4400-aaee-667dbc929389",
   "metadata": {},
   "outputs": [
    {
     "name": "stderr",
     "output_type": "stream",
     "text": [
      "Updating HTML index of packages in '.Library'\n",
      "\n",
      "Making 'packages.html' ...\n",
      " done\n",
      "\n"
     ]
    }
   ],
   "source": [
    "install.packages('cowplot')"
   ]
  },
  {
   "cell_type": "code",
   "execution_count": 1,
   "id": "93bea801-9729-4372-875d-08648a6c1cfb",
   "metadata": {},
   "outputs": [
    {
     "name": "stderr",
     "output_type": "stream",
     "text": [
      "── \u001b[1mAttaching packages\u001b[22m ─────────────────────────────────────── tidyverse 1.3.1 ──\n",
      "\n",
      "\u001b[32m✔\u001b[39m \u001b[34mggplot2\u001b[39m 3.3.6     \u001b[32m✔\u001b[39m \u001b[34mpurrr  \u001b[39m 0.3.4\n",
      "\u001b[32m✔\u001b[39m \u001b[34mtibble \u001b[39m 3.1.7     \u001b[32m✔\u001b[39m \u001b[34mdplyr  \u001b[39m 1.0.9\n",
      "\u001b[32m✔\u001b[39m \u001b[34mtidyr  \u001b[39m 1.2.0     \u001b[32m✔\u001b[39m \u001b[34mstringr\u001b[39m 1.4.0\n",
      "\u001b[32m✔\u001b[39m \u001b[34mreadr  \u001b[39m 2.1.2     \u001b[32m✔\u001b[39m \u001b[34mforcats\u001b[39m 0.5.1\n",
      "\n",
      "── \u001b[1mConflicts\u001b[22m ────────────────────────────────────────── tidyverse_conflicts() ──\n",
      "\u001b[31m✖\u001b[39m \u001b[34mdplyr\u001b[39m::\u001b[32mfilter()\u001b[39m masks \u001b[34mstats\u001b[39m::filter()\n",
      "\u001b[31m✖\u001b[39m \u001b[34mdplyr\u001b[39m::\u001b[32mlag()\u001b[39m    masks \u001b[34mstats\u001b[39m::lag()\n",
      "\n",
      "── \u001b[1mAttaching packages\u001b[22m ────────────────────────────────────── tidymodels 1.0.0 ──\n",
      "\n",
      "\u001b[32m✔\u001b[39m \u001b[34mbroom       \u001b[39m 1.0.0     \u001b[32m✔\u001b[39m \u001b[34mrsample     \u001b[39m 1.0.0\n",
      "\u001b[32m✔\u001b[39m \u001b[34mdials       \u001b[39m 1.0.0     \u001b[32m✔\u001b[39m \u001b[34mtune        \u001b[39m 1.0.0\n",
      "\u001b[32m✔\u001b[39m \u001b[34minfer       \u001b[39m 1.0.2     \u001b[32m✔\u001b[39m \u001b[34mworkflows   \u001b[39m 1.0.0\n",
      "\u001b[32m✔\u001b[39m \u001b[34mmodeldata   \u001b[39m 1.0.0     \u001b[32m✔\u001b[39m \u001b[34mworkflowsets\u001b[39m 1.0.0\n",
      "\u001b[32m✔\u001b[39m \u001b[34mparsnip     \u001b[39m 1.0.0     \u001b[32m✔\u001b[39m \u001b[34myardstick   \u001b[39m 1.0.0\n",
      "\u001b[32m✔\u001b[39m \u001b[34mrecipes     \u001b[39m 1.0.1     \n",
      "\n",
      "── \u001b[1mConflicts\u001b[22m ───────────────────────────────────────── tidymodels_conflicts() ──\n",
      "\u001b[31m✖\u001b[39m \u001b[34mscales\u001b[39m::\u001b[32mdiscard()\u001b[39m masks \u001b[34mpurrr\u001b[39m::discard()\n",
      "\u001b[31m✖\u001b[39m \u001b[34mdplyr\u001b[39m::\u001b[32mfilter()\u001b[39m   masks \u001b[34mstats\u001b[39m::filter()\n",
      "\u001b[31m✖\u001b[39m \u001b[34mrecipes\u001b[39m::\u001b[32mfixed()\u001b[39m  masks \u001b[34mstringr\u001b[39m::fixed()\n",
      "\u001b[31m✖\u001b[39m \u001b[34mdplyr\u001b[39m::\u001b[32mlag()\u001b[39m      masks \u001b[34mstats\u001b[39m::lag()\n",
      "\u001b[31m✖\u001b[39m \u001b[34myardstick\u001b[39m::\u001b[32mspec()\u001b[39m masks \u001b[34mreadr\u001b[39m::spec()\n",
      "\u001b[31m✖\u001b[39m \u001b[34mrecipes\u001b[39m::\u001b[32mstep()\u001b[39m   masks \u001b[34mstats\u001b[39m::step()\n",
      "\u001b[34m•\u001b[39m Use suppressPackageStartupMessages() to eliminate package startup messages\n",
      "\n"
     ]
    }
   ],
   "source": [
    "library(tidyverse)\n",
    "library(tidymodels)\n",
    "library(cowplot)"
   ]
  },
  {
   "cell_type": "markdown",
   "id": "0283429d-4ba8-420d-baa3-81e5b0d2d6a3",
   "metadata": {},
   "source": [
    "## Data Wrangling"
   ]
  },
  {
   "cell_type": "code",
   "execution_count": 2,
   "id": "76e469d5-cd85-4f2b-a352-16da8f0b7757",
   "metadata": {},
   "outputs": [
    {
     "name": "stderr",
     "output_type": "stream",
     "text": [
      "\u001b[1mRows: \u001b[22m\u001b[34m303\u001b[39m \u001b[1mColumns: \u001b[22m\u001b[34m14\u001b[39m\n",
      "\u001b[36m──\u001b[39m \u001b[1mColumn specification\u001b[22m \u001b[36m────────────────────────────────────────────────────────\u001b[39m\n",
      "\u001b[1mDelimiter:\u001b[22m \",\"\n",
      "\u001b[31mchr\u001b[39m  (2): X12, X13\n",
      "\u001b[32mdbl\u001b[39m (12): X1, X2, X3, X4, X5, X6, X7, X8, X9, X10, X11, X14\n",
      "\n",
      "\u001b[36mℹ\u001b[39m Use `spec()` to retrieve the full column specification for this data.\n",
      "\u001b[36mℹ\u001b[39m Specify the column types or set `show_col_types = FALSE` to quiet this message.\n"
     ]
    },
    {
     "data": {
      "text/html": [],
      "text/latex": [],
      "text/markdown": [],
      "text/plain": [
       "integer(0)"
      ]
     },
     "metadata": {},
     "output_type": "display_data"
    },
    {
     "data": {
      "text/html": [
       "<table class=\"dataframe\">\n",
       "<caption>A tibble: 8 × 5</caption>\n",
       "<thead>\n",
       "\t<tr><th scope=col>age</th><th scope=col>resting_blood_pressure</th><th scope=col>chol</th><th scope=col>ST_level</th><th scope=col>diagnosis</th></tr>\n",
       "\t<tr><th scope=col>&lt;dbl&gt;</th><th scope=col>&lt;dbl&gt;</th><th scope=col>&lt;dbl&gt;</th><th scope=col>&lt;dbl&gt;</th><th scope=col>&lt;fct&gt;</th></tr>\n",
       "</thead>\n",
       "<tbody>\n",
       "\t<tr><td>63</td><td>145</td><td>233</td><td>2.3</td><td>0</td></tr>\n",
       "\t<tr><td>67</td><td>160</td><td>286</td><td>1.5</td><td>2</td></tr>\n",
       "\t<tr><td>67</td><td>120</td><td>229</td><td>2.6</td><td>1</td></tr>\n",
       "\t<tr><td>37</td><td>130</td><td>250</td><td>3.5</td><td>0</td></tr>\n",
       "\t<tr><td>41</td><td>130</td><td>204</td><td>1.4</td><td>0</td></tr>\n",
       "\t<tr><td>56</td><td>120</td><td>236</td><td>0.8</td><td>0</td></tr>\n",
       "\t<tr><td>62</td><td>140</td><td>268</td><td>3.6</td><td>3</td></tr>\n",
       "\t<tr><td>57</td><td>120</td><td>354</td><td>0.6</td><td>0</td></tr>\n",
       "</tbody>\n",
       "</table>\n"
      ],
      "text/latex": [
       "A tibble: 8 × 5\n",
       "\\begin{tabular}{lllll}\n",
       " age & resting\\_blood\\_pressure & chol & ST\\_level & diagnosis\\\\\n",
       " <dbl> & <dbl> & <dbl> & <dbl> & <fct>\\\\\n",
       "\\hline\n",
       "\t 63 & 145 & 233 & 2.3 & 0\\\\\n",
       "\t 67 & 160 & 286 & 1.5 & 2\\\\\n",
       "\t 67 & 120 & 229 & 2.6 & 1\\\\\n",
       "\t 37 & 130 & 250 & 3.5 & 0\\\\\n",
       "\t 41 & 130 & 204 & 1.4 & 0\\\\\n",
       "\t 56 & 120 & 236 & 0.8 & 0\\\\\n",
       "\t 62 & 140 & 268 & 3.6 & 3\\\\\n",
       "\t 57 & 120 & 354 & 0.6 & 0\\\\\n",
       "\\end{tabular}\n"
      ],
      "text/markdown": [
       "\n",
       "A tibble: 8 × 5\n",
       "\n",
       "| age &lt;dbl&gt; | resting_blood_pressure &lt;dbl&gt; | chol &lt;dbl&gt; | ST_level &lt;dbl&gt; | diagnosis &lt;fct&gt; |\n",
       "|---|---|---|---|---|\n",
       "| 63 | 145 | 233 | 2.3 | 0 |\n",
       "| 67 | 160 | 286 | 1.5 | 2 |\n",
       "| 67 | 120 | 229 | 2.6 | 1 |\n",
       "| 37 | 130 | 250 | 3.5 | 0 |\n",
       "| 41 | 130 | 204 | 1.4 | 0 |\n",
       "| 56 | 120 | 236 | 0.8 | 0 |\n",
       "| 62 | 140 | 268 | 3.6 | 3 |\n",
       "| 57 | 120 | 354 | 0.6 | 0 |\n",
       "\n"
      ],
      "text/plain": [
       "  age resting_blood_pressure chol ST_level diagnosis\n",
       "1 63  145                    233  2.3      0        \n",
       "2 67  160                    286  1.5      2        \n",
       "3 67  120                    229  2.6      1        \n",
       "4 37  130                    250  3.5      0        \n",
       "5 41  130                    204  1.4      0        \n",
       "6 56  120                    236  0.8      0        \n",
       "7 62  140                    268  3.6      3        \n",
       "8 57  120                    354  0.6      0        "
      ]
     },
     "metadata": {},
     "output_type": "display_data"
    }
   ],
   "source": [
    "#Read the data from the webpage into Jupyter\n",
    "heart_disease <- read_delim(\"https://archive.ics.uci.edu/ml/machine-learning-databases/heart-disease/processed.cleveland.data\", col_names = FALSE)\n",
    "#Add column names based on the information given by the dataset webpage (to improve readability)\n",
    "colnames(heart_disease) <- c(\"age\", \"sex\", \"chest_pain_type\", \"resting_blood_pressure\", \"chol\", \"fasting_blood_sugar\", \"resting_electrocardiographic_results\", \"maximum_heart_rate_achieved\", \"exercise_induced_angina\", \"ST_level\", \"slope\", \"number_of_major_vessels\", \"thal\", \"diagnosis_of_heart_disease\")\n",
    "#Select chosen predictor and class variables \n",
    "heart_data <- heart_disease |> mutate(diagnosis = as_factor(diagnosis_of_heart_disease)) |> select(age, resting_blood_pressure, chol, ST_level, diagnosis)\n",
    "#Check to see if there are any NA values\n",
    "which(is.na(heart_data))\n",
    "    #There aren't any NA values (the function returned no positions with missing values)\n",
    "\n",
    "head(heart_data, n =8)"
   ]
  },
  {
   "cell_type": "code",
   "execution_count": 3,
   "id": "fc92c350-959d-46e1-95c0-0f66caadf2ab",
   "metadata": {},
   "outputs": [],
   "source": [
    "#Assign all values, 1-4, as \"1\" to indicate that there is a heart disease\n",
    "heart_data[\"diagnosis\"][heart_data[\"diagnosis\"] == \"2\"] <- \"1\"\n",
    "heart_data[\"diagnosis\"][heart_data[\"diagnosis\"] == \"3\"] <- \"1\"\n",
    "heart_data[\"diagnosis\"][heart_data[\"diagnosis\"] == \"4\"] <- \"1\"\n",
    "    #Source for code: https://www.statology.org/replace-values-in-data-frame-r/\n",
    "#Split data into training and testing data; 75:25 split was chosen arbitrarily\n",
    "heart_split <- initial_split(heart_data, prop = 0.75, strata = diagnosis)  \n",
    "heart_train <- training(heart_split)   \n",
    "heart_test <- testing(heart_split)"
   ]
  },
  {
   "cell_type": "markdown",
   "id": "c9303edc-aca4-4c3e-b22c-565006f407d3",
   "metadata": {},
   "source": [
    "CODE NEEDED:\n",
    "- Build KNN model + choose best K value \n",
    "- Evaluate accuracy\n",
    "- Graph predictors + histograms (count)\n"
   ]
  },
  {
   "cell_type": "markdown",
   "id": "12e34740-d108-4eef-8027-f779d49cd533",
   "metadata": {},
   "source": [
    "## Model Building & Choosing Best K"
   ]
  },
  {
   "cell_type": "code",
   "execution_count": 16,
   "id": "86cc1f63-4d16-4123-bc3e-dd4ca84392a7",
   "metadata": {},
   "outputs": [
    {
     "name": "stderr",
     "output_type": "stream",
     "text": [
      "\u001b[33m!\u001b[39m \u001b[33mFold01: internal:\n",
      "  No observations were detected in `truth` for level(s): '2', '3', '4'\n",
      "  Computation will proceed by ignoring those levels.\u001b[39m\n",
      "\n",
      "\u001b[33m!\u001b[39m \u001b[33mFold02: internal:\n",
      "  No observations were detected in `truth` for level(s): '2', '3', '4'\n",
      "  Computation will proceed by ignoring those levels.\u001b[39m\n",
      "\n",
      "\u001b[33m!\u001b[39m \u001b[33mFold03: internal:\n",
      "  No observations were detected in `truth` for level(s): '2', '3', '4'\n",
      "  Computation will proceed by ignoring those levels.\u001b[39m\n",
      "\n",
      "\u001b[33m!\u001b[39m \u001b[33mFold04: internal:\n",
      "  No observations were detected in `truth` for level(s): '2', '3', '4'\n",
      "  Computation will proceed by ignoring those levels.\u001b[39m\n",
      "\n",
      "\u001b[33m!\u001b[39m \u001b[33mFold05: internal:\n",
      "  No observations were detected in `truth` for level(s): '2', '3', '4'\n",
      "  Computation will proceed by ignoring those levels.\u001b[39m\n",
      "\n",
      "\u001b[33m!\u001b[39m \u001b[33mFold06: internal:\n",
      "  No observations were detected in `truth` for level(s): '2', '3', '4'\n",
      "  Computation will proceed by ignoring those levels.\u001b[39m\n",
      "\n",
      "\u001b[33m!\u001b[39m \u001b[33mFold07: internal:\n",
      "  No observations were detected in `truth` for level(s): '2', '3', '4'\n",
      "  Computation will proceed by ignoring those levels.\u001b[39m\n",
      "\n",
      "\u001b[33m!\u001b[39m \u001b[33mFold08: internal:\n",
      "  No observations were detected in `truth` for level(s): '2', '3', '4'\n",
      "  Computation will proceed by ignoring those levels.\u001b[39m\n",
      "\n",
      "\u001b[33m!\u001b[39m \u001b[33mFold09: internal:\n",
      "  No observations were detected in `truth` for level(s): '2', '3', '4'\n",
      "  Computation will proceed by ignoring those levels.\u001b[39m\n",
      "\n",
      "\u001b[33m!\u001b[39m \u001b[33mFold10: internal:\n",
      "  No observations were detected in `truth` for level(s): '2', '3', '4'\n",
      "  Computation will proceed by ignoring those levels.\u001b[39m\n",
      "\n"
     ]
    },
    {
     "data": {
      "text/html": [
       "<table class=\"dataframe\">\n",
       "<caption>A tibble: 24 × 7</caption>\n",
       "<thead>\n",
       "\t<tr><th scope=col>neighbors</th><th scope=col>.metric</th><th scope=col>.estimator</th><th scope=col>mean</th><th scope=col>n</th><th scope=col>std_err</th><th scope=col>.config</th></tr>\n",
       "\t<tr><th scope=col>&lt;int&gt;</th><th scope=col>&lt;chr&gt;</th><th scope=col>&lt;chr&gt;</th><th scope=col>&lt;dbl&gt;</th><th scope=col>&lt;int&gt;</th><th scope=col>&lt;dbl&gt;</th><th scope=col>&lt;chr&gt;</th></tr>\n",
       "</thead>\n",
       "<tbody>\n",
       "\t<tr><td> 1</td><td>accuracy</td><td>multiclass</td><td>0.6019598</td><td>10</td><td>0.03239192</td><td>Preprocessor1_Model01</td></tr>\n",
       "\t<tr><td> 1</td><td>roc_auc </td><td>hand_till </td><td>0.5995513</td><td>10</td><td>0.03238491</td><td>Preprocessor1_Model01</td></tr>\n",
       "\t<tr><td> 3</td><td>accuracy</td><td>multiclass</td><td>0.6292490</td><td>10</td><td>0.05601211</td><td>Preprocessor1_Model02</td></tr>\n",
       "\t<tr><td> 3</td><td>roc_auc </td><td>hand_till </td><td>0.6646853</td><td>10</td><td>0.05959367</td><td>Preprocessor1_Model02</td></tr>\n",
       "\t<tr><td> 4</td><td>accuracy</td><td>multiclass</td><td>0.6292490</td><td>10</td><td>0.05601211</td><td>Preprocessor1_Model03</td></tr>\n",
       "\t<tr><td> 4</td><td>roc_auc </td><td>hand_till </td><td>0.6646037</td><td>10</td><td>0.05546418</td><td>Preprocessor1_Model03</td></tr>\n",
       "\t<tr><td> 5</td><td>accuracy</td><td>multiclass</td><td>0.6479908</td><td>10</td><td>0.04355810</td><td>Preprocessor1_Model04</td></tr>\n",
       "\t<tr><td> 5</td><td>roc_auc </td><td>hand_till </td><td>0.6936480</td><td>10</td><td>0.05386570</td><td>Preprocessor1_Model04</td></tr>\n",
       "\t<tr><td> 6</td><td>accuracy</td><td>multiclass</td><td>0.6479908</td><td>10</td><td>0.04355810</td><td>Preprocessor1_Model05</td></tr>\n",
       "\t<tr><td> 6</td><td>roc_auc </td><td>hand_till </td><td>0.7161480</td><td>10</td><td>0.05193505</td><td>Preprocessor1_Model05</td></tr>\n",
       "\t<tr><td> 7</td><td>accuracy</td><td>multiclass</td><td>0.6830204</td><td>10</td><td>0.03813307</td><td>Preprocessor1_Model06</td></tr>\n",
       "\t<tr><td> 7</td><td>roc_auc </td><td>hand_till </td><td>0.7237791</td><td>10</td><td>0.04967979</td><td>Preprocessor1_Model06</td></tr>\n",
       "\t<tr><td> 8</td><td>accuracy</td><td>multiclass</td><td>0.6830204</td><td>10</td><td>0.03813307</td><td>Preprocessor1_Model07</td></tr>\n",
       "\t<tr><td> 8</td><td>roc_auc </td><td>hand_till </td><td>0.7437179</td><td>10</td><td>0.05322582</td><td>Preprocessor1_Model07</td></tr>\n",
       "\t<tr><td> 9</td><td>accuracy</td><td>multiclass</td><td>0.7010046</td><td>10</td><td>0.04748847</td><td>Preprocessor1_Model08</td></tr>\n",
       "\t<tr><td> 9</td><td>roc_auc </td><td>hand_till </td><td>0.7431410</td><td>10</td><td>0.05263683</td><td>Preprocessor1_Model08</td></tr>\n",
       "\t<tr><td>10</td><td>accuracy</td><td>multiclass</td><td>0.7010046</td><td>10</td><td>0.04748847</td><td>Preprocessor1_Model09</td></tr>\n",
       "\t<tr><td>10</td><td>roc_auc </td><td>hand_till </td><td>0.7501049</td><td>10</td><td>0.05242711</td><td>Preprocessor1_Model09</td></tr>\n",
       "\t<tr><td>11</td><td>accuracy</td><td>multiclass</td><td>0.7055501</td><td>10</td><td>0.04398909</td><td>Preprocessor1_Model10</td></tr>\n",
       "\t<tr><td>11</td><td>roc_auc </td><td>hand_till </td><td>0.7415443</td><td>10</td><td>0.05957275</td><td>Preprocessor1_Model10</td></tr>\n",
       "\t<tr><td>13</td><td>accuracy</td><td>multiclass</td><td>0.6794302</td><td>10</td><td>0.04744802</td><td>Preprocessor1_Model11</td></tr>\n",
       "\t<tr><td>13</td><td>roc_auc </td><td>hand_till </td><td>0.7412442</td><td>10</td><td>0.05931568</td><td>Preprocessor1_Model11</td></tr>\n",
       "\t<tr><td>14</td><td>accuracy</td><td>multiclass</td><td>0.6794302</td><td>10</td><td>0.04744802</td><td>Preprocessor1_Model12</td></tr>\n",
       "\t<tr><td>14</td><td>roc_auc </td><td>hand_till </td><td>0.7356439</td><td>10</td><td>0.06126696</td><td>Preprocessor1_Model12</td></tr>\n",
       "</tbody>\n",
       "</table>\n"
      ],
      "text/latex": [
       "A tibble: 24 × 7\n",
       "\\begin{tabular}{lllllll}\n",
       " neighbors & .metric & .estimator & mean & n & std\\_err & .config\\\\\n",
       " <int> & <chr> & <chr> & <dbl> & <int> & <dbl> & <chr>\\\\\n",
       "\\hline\n",
       "\t  1 & accuracy & multiclass & 0.6019598 & 10 & 0.03239192 & Preprocessor1\\_Model01\\\\\n",
       "\t  1 & roc\\_auc  & hand\\_till  & 0.5995513 & 10 & 0.03238491 & Preprocessor1\\_Model01\\\\\n",
       "\t  3 & accuracy & multiclass & 0.6292490 & 10 & 0.05601211 & Preprocessor1\\_Model02\\\\\n",
       "\t  3 & roc\\_auc  & hand\\_till  & 0.6646853 & 10 & 0.05959367 & Preprocessor1\\_Model02\\\\\n",
       "\t  4 & accuracy & multiclass & 0.6292490 & 10 & 0.05601211 & Preprocessor1\\_Model03\\\\\n",
       "\t  4 & roc\\_auc  & hand\\_till  & 0.6646037 & 10 & 0.05546418 & Preprocessor1\\_Model03\\\\\n",
       "\t  5 & accuracy & multiclass & 0.6479908 & 10 & 0.04355810 & Preprocessor1\\_Model04\\\\\n",
       "\t  5 & roc\\_auc  & hand\\_till  & 0.6936480 & 10 & 0.05386570 & Preprocessor1\\_Model04\\\\\n",
       "\t  6 & accuracy & multiclass & 0.6479908 & 10 & 0.04355810 & Preprocessor1\\_Model05\\\\\n",
       "\t  6 & roc\\_auc  & hand\\_till  & 0.7161480 & 10 & 0.05193505 & Preprocessor1\\_Model05\\\\\n",
       "\t  7 & accuracy & multiclass & 0.6830204 & 10 & 0.03813307 & Preprocessor1\\_Model06\\\\\n",
       "\t  7 & roc\\_auc  & hand\\_till  & 0.7237791 & 10 & 0.04967979 & Preprocessor1\\_Model06\\\\\n",
       "\t  8 & accuracy & multiclass & 0.6830204 & 10 & 0.03813307 & Preprocessor1\\_Model07\\\\\n",
       "\t  8 & roc\\_auc  & hand\\_till  & 0.7437179 & 10 & 0.05322582 & Preprocessor1\\_Model07\\\\\n",
       "\t  9 & accuracy & multiclass & 0.7010046 & 10 & 0.04748847 & Preprocessor1\\_Model08\\\\\n",
       "\t  9 & roc\\_auc  & hand\\_till  & 0.7431410 & 10 & 0.05263683 & Preprocessor1\\_Model08\\\\\n",
       "\t 10 & accuracy & multiclass & 0.7010046 & 10 & 0.04748847 & Preprocessor1\\_Model09\\\\\n",
       "\t 10 & roc\\_auc  & hand\\_till  & 0.7501049 & 10 & 0.05242711 & Preprocessor1\\_Model09\\\\\n",
       "\t 11 & accuracy & multiclass & 0.7055501 & 10 & 0.04398909 & Preprocessor1\\_Model10\\\\\n",
       "\t 11 & roc\\_auc  & hand\\_till  & 0.7415443 & 10 & 0.05957275 & Preprocessor1\\_Model10\\\\\n",
       "\t 13 & accuracy & multiclass & 0.6794302 & 10 & 0.04744802 & Preprocessor1\\_Model11\\\\\n",
       "\t 13 & roc\\_auc  & hand\\_till  & 0.7412442 & 10 & 0.05931568 & Preprocessor1\\_Model11\\\\\n",
       "\t 14 & accuracy & multiclass & 0.6794302 & 10 & 0.04744802 & Preprocessor1\\_Model12\\\\\n",
       "\t 14 & roc\\_auc  & hand\\_till  & 0.7356439 & 10 & 0.06126696 & Preprocessor1\\_Model12\\\\\n",
       "\\end{tabular}\n"
      ],
      "text/markdown": [
       "\n",
       "A tibble: 24 × 7\n",
       "\n",
       "| neighbors &lt;int&gt; | .metric &lt;chr&gt; | .estimator &lt;chr&gt; | mean &lt;dbl&gt; | n &lt;int&gt; | std_err &lt;dbl&gt; | .config &lt;chr&gt; |\n",
       "|---|---|---|---|---|---|---|\n",
       "|  1 | accuracy | multiclass | 0.6019598 | 10 | 0.03239192 | Preprocessor1_Model01 |\n",
       "|  1 | roc_auc  | hand_till  | 0.5995513 | 10 | 0.03238491 | Preprocessor1_Model01 |\n",
       "|  3 | accuracy | multiclass | 0.6292490 | 10 | 0.05601211 | Preprocessor1_Model02 |\n",
       "|  3 | roc_auc  | hand_till  | 0.6646853 | 10 | 0.05959367 | Preprocessor1_Model02 |\n",
       "|  4 | accuracy | multiclass | 0.6292490 | 10 | 0.05601211 | Preprocessor1_Model03 |\n",
       "|  4 | roc_auc  | hand_till  | 0.6646037 | 10 | 0.05546418 | Preprocessor1_Model03 |\n",
       "|  5 | accuracy | multiclass | 0.6479908 | 10 | 0.04355810 | Preprocessor1_Model04 |\n",
       "|  5 | roc_auc  | hand_till  | 0.6936480 | 10 | 0.05386570 | Preprocessor1_Model04 |\n",
       "|  6 | accuracy | multiclass | 0.6479908 | 10 | 0.04355810 | Preprocessor1_Model05 |\n",
       "|  6 | roc_auc  | hand_till  | 0.7161480 | 10 | 0.05193505 | Preprocessor1_Model05 |\n",
       "|  7 | accuracy | multiclass | 0.6830204 | 10 | 0.03813307 | Preprocessor1_Model06 |\n",
       "|  7 | roc_auc  | hand_till  | 0.7237791 | 10 | 0.04967979 | Preprocessor1_Model06 |\n",
       "|  8 | accuracy | multiclass | 0.6830204 | 10 | 0.03813307 | Preprocessor1_Model07 |\n",
       "|  8 | roc_auc  | hand_till  | 0.7437179 | 10 | 0.05322582 | Preprocessor1_Model07 |\n",
       "|  9 | accuracy | multiclass | 0.7010046 | 10 | 0.04748847 | Preprocessor1_Model08 |\n",
       "|  9 | roc_auc  | hand_till  | 0.7431410 | 10 | 0.05263683 | Preprocessor1_Model08 |\n",
       "| 10 | accuracy | multiclass | 0.7010046 | 10 | 0.04748847 | Preprocessor1_Model09 |\n",
       "| 10 | roc_auc  | hand_till  | 0.7501049 | 10 | 0.05242711 | Preprocessor1_Model09 |\n",
       "| 11 | accuracy | multiclass | 0.7055501 | 10 | 0.04398909 | Preprocessor1_Model10 |\n",
       "| 11 | roc_auc  | hand_till  | 0.7415443 | 10 | 0.05957275 | Preprocessor1_Model10 |\n",
       "| 13 | accuracy | multiclass | 0.6794302 | 10 | 0.04744802 | Preprocessor1_Model11 |\n",
       "| 13 | roc_auc  | hand_till  | 0.7412442 | 10 | 0.05931568 | Preprocessor1_Model11 |\n",
       "| 14 | accuracy | multiclass | 0.6794302 | 10 | 0.04744802 | Preprocessor1_Model12 |\n",
       "| 14 | roc_auc  | hand_till  | 0.7356439 | 10 | 0.06126696 | Preprocessor1_Model12 |\n",
       "\n"
      ],
      "text/plain": [
       "   neighbors .metric  .estimator mean      n  std_err    .config              \n",
       "1   1        accuracy multiclass 0.6019598 10 0.03239192 Preprocessor1_Model01\n",
       "2   1        roc_auc  hand_till  0.5995513 10 0.03238491 Preprocessor1_Model01\n",
       "3   3        accuracy multiclass 0.6292490 10 0.05601211 Preprocessor1_Model02\n",
       "4   3        roc_auc  hand_till  0.6646853 10 0.05959367 Preprocessor1_Model02\n",
       "5   4        accuracy multiclass 0.6292490 10 0.05601211 Preprocessor1_Model03\n",
       "6   4        roc_auc  hand_till  0.6646037 10 0.05546418 Preprocessor1_Model03\n",
       "7   5        accuracy multiclass 0.6479908 10 0.04355810 Preprocessor1_Model04\n",
       "8   5        roc_auc  hand_till  0.6936480 10 0.05386570 Preprocessor1_Model04\n",
       "9   6        accuracy multiclass 0.6479908 10 0.04355810 Preprocessor1_Model05\n",
       "10  6        roc_auc  hand_till  0.7161480 10 0.05193505 Preprocessor1_Model05\n",
       "11  7        accuracy multiclass 0.6830204 10 0.03813307 Preprocessor1_Model06\n",
       "12  7        roc_auc  hand_till  0.7237791 10 0.04967979 Preprocessor1_Model06\n",
       "13  8        accuracy multiclass 0.6830204 10 0.03813307 Preprocessor1_Model07\n",
       "14  8        roc_auc  hand_till  0.7437179 10 0.05322582 Preprocessor1_Model07\n",
       "15  9        accuracy multiclass 0.7010046 10 0.04748847 Preprocessor1_Model08\n",
       "16  9        roc_auc  hand_till  0.7431410 10 0.05263683 Preprocessor1_Model08\n",
       "17 10        accuracy multiclass 0.7010046 10 0.04748847 Preprocessor1_Model09\n",
       "18 10        roc_auc  hand_till  0.7501049 10 0.05242711 Preprocessor1_Model09\n",
       "19 11        accuracy multiclass 0.7055501 10 0.04398909 Preprocessor1_Model10\n",
       "20 11        roc_auc  hand_till  0.7415443 10 0.05957275 Preprocessor1_Model10\n",
       "21 13        accuracy multiclass 0.6794302 10 0.04744802 Preprocessor1_Model11\n",
       "22 13        roc_auc  hand_till  0.7412442 10 0.05931568 Preprocessor1_Model11\n",
       "23 14        accuracy multiclass 0.6794302 10 0.04744802 Preprocessor1_Model12\n",
       "24 14        roc_auc  hand_till  0.7356439 10 0.06126696 Preprocessor1_Model12"
      ]
     },
     "metadata": {},
     "output_type": "display_data"
    }
   ],
   "source": [
    "knn_spec_tune <- nearest_neighbor(weight_func = \"rectangular\", neighbors = tune()) |> set_engine(\"kknn\") |> set_mode(\"classification\")\n",
    "knn_recipe <- recipe(diagnosis~., data = heart_train) |> step_scale(all_predictors()) |> step_center(all_predictors())\n",
    "data_fold <- vfold_cv(heart_train, v = 10, strata = diagnosis)\n",
    "best_k <- workflow() |> add_model(knn_spec_tune) |> add_recipe(knn_recipe) |> tune_grid(data_fold, grid = 15) |> collect_metrics()"
   ]
  },
  {
   "cell_type": "code",
   "execution_count": 17,
   "id": "40382930-b000-4af9-8e60-2cc1ef1212d5",
   "metadata": {},
   "outputs": [
    {
     "data": {
      "image/png": "[encoded data removed]",
      "text/plain": [
       "plot without title"
      ]
     },
     "metadata": {
      "image/png": {
       "height": 420,
       "width": 420
      }
     },
     "output_type": "display_data"
    }
   ],
   "source": [
    "#we choose the best k parameter\n",
    "accuracy_plot <- best_k |> filter(.metric == \"accuracy\") |> ggplot(aes(x = neighbors, y = mean)) + geom_point() + geom_line() + labs(x = \"Neighbors\", y = \"Accuracy Estimate\") +\n",
    "     scale_x_continuous(breaks = seq(0, 14, by = 1)) + \n",
    "     scale_y_continuous(limits = c(0, 1.0))\n",
    "accuracy_plot \n",
    "#it appears that the best value is k = 11"
   ]
  },
  {
   "cell_type": "code",
   "execution_count": 29,
   "id": "f2dd1b97-2228-4f4d-9b37-35f62900b773",
   "metadata": {},
   "outputs": [],
   "source": [
    "#Now we make the final model\n",
    "knn_spec <- nearest_neighbor(weight_func = \"rectangular\", neighbors = 11) |> set_engine(\"kknn\") |> set_mode(\"classification\")\n",
    "knn_recipe <- recipe(diagnosis~., data = heart_train) |> step_scale(all_predictors()) |> step_center(all_predictors())\n",
    "knn_fit <- workflow() |> add_model(knn_spec) |> add_recipe(knn_recipe) |> fit(heart_train)"
   ]
  },
  {
   "cell_type": "markdown",
   "id": "33af8f98-7758-4fb6-bb12-56ab49dad560",
   "metadata": {},
   "source": [
    "## Model Evaluation"
   ]
  },
  {
   "cell_type": "code",
   "execution_count": 28,
   "id": "bb3c2ea0-f109-4a0b-b86a-6ae2fd119d63",
   "metadata": {},
   "outputs": [
    {
     "data": {
      "text/html": [
       "<table class=\"dataframe\">\n",
       "<caption>A tibble: 2 × 3</caption>\n",
       "<thead>\n",
       "\t<tr><th scope=col>.metric</th><th scope=col>.estimator</th><th scope=col>.estimate</th></tr>\n",
       "\t<tr><th scope=col>&lt;chr&gt;</th><th scope=col>&lt;chr&gt;</th><th scope=col>&lt;dbl&gt;</th></tr>\n",
       "</thead>\n",
       "<tbody>\n",
       "\t<tr><td>accuracy</td><td>multiclass</td><td>0.6184211</td></tr>\n",
       "\t<tr><td>kap     </td><td>multiclass</td><td>0.2431319</td></tr>\n",
       "</tbody>\n",
       "</table>\n"
      ],
      "text/latex": [
       "A tibble: 2 × 3\n",
       "\\begin{tabular}{lll}\n",
       " .metric & .estimator & .estimate\\\\\n",
       " <chr> & <chr> & <dbl>\\\\\n",
       "\\hline\n",
       "\t accuracy & multiclass & 0.6184211\\\\\n",
       "\t kap      & multiclass & 0.2431319\\\\\n",
       "\\end{tabular}\n"
      ],
      "text/markdown": [
       "\n",
       "A tibble: 2 × 3\n",
       "\n",
       "| .metric &lt;chr&gt; | .estimator &lt;chr&gt; | .estimate &lt;dbl&gt; |\n",
       "|---|---|---|\n",
       "| accuracy | multiclass | 0.6184211 |\n",
       "| kap      | multiclass | 0.2431319 |\n",
       "\n"
      ],
      "text/plain": [
       "  .metric  .estimator .estimate\n",
       "1 accuracy multiclass 0.6184211\n",
       "2 kap      multiclass 0.2431319"
      ]
     },
     "metadata": {},
     "output_type": "display_data"
    }
   ],
   "source": [
    "prediction <- predict(knn_fit, heart_test) |> bind_cols(heart_test)\n",
    "accuracy <- metrics(prediction, truth = diagnosis, estimate = .pred_class)\n",
    "accuracy"
   ]
  },
  {
   "cell_type": "code",
   "execution_count": null,
   "id": "641a5013-5bd1-46b9-a978-a8ca5e5cf6dc",
   "metadata": {},
   "outputs": [],
   "source": []
  }
 ],
 "metadata": {
  "kernelspec": {
   "display_name": "R",
   "language": "R",
   "name": "ir"
  },
  "language_info": {
   "codemirror_mode": "r",
   "file_extension": ".r",
   "mimetype": "text/x-r-source",
   "name": "R",
   "pygments_lexer": "r",
   "version": "4.1.3"
  }
 },
 "nbformat": 4,
 "nbformat_minor": 5
}
